{
 "cells": [
  {
   "cell_type": "markdown",
   "metadata": {},
   "source": [
    "## Data Preparation"
   ]
  },
  {
   "cell_type": "code",
   "execution_count": 1,
   "metadata": {},
   "outputs": [],
   "source": [
    "# Import necessary libraries\n",
    "\n",
    "import os\n",
    "from datetime import timedelta\n",
    "import pandas as pd\n",
    "import numpy as np\n",
    "import re\n",
    "\n",
    "notebook_path = os.path.abspath(\"Data_Preparation.ipynb\")"
   ]
  },
  {
   "cell_type": "markdown",
   "metadata": {},
   "source": [
    "### Load files and do initial cleaning"
   ]
  },
  {
   "cell_type": "markdown",
   "metadata": {},
   "source": [
    "#### Parking meter transactions data"
   ]
  },
  {
   "cell_type": "code",
   "execution_count": 2,
   "metadata": {},
   "outputs": [],
   "source": [
    "# load parking meter transactions data\n",
    "filename_csv = os.path.join(os.path.dirname(notebook_path), \"Data/Raw/treas_parking_payments_2019_datasd.csv\")\n",
    "transactions = pd.read_csv(filename_csv, parse_dates=['trans_start','meter_expire'])\n",
    "\n",
    "# add a durations column (amount of time between transaction time and expiration time, in minutes)\n",
    "transactions['duration'] = transactions['meter_expire'] - transactions['trans_start']\n",
    "transactions['duration'] = transactions['duration']/np.timedelta64(1,'m')\n",
    "\n",
    "# add a day_of_week column (so that we can easily extract weekday transactions)\n",
    "transactions['day_of_week'] = transactions.trans_start.dt.dayofweek"
   ]
  },
  {
   "cell_type": "markdown",
   "metadata": {},
   "source": [
    "#### Parking meter locations data"
   ]
  },
  {
   "cell_type": "code",
   "execution_count": 3,
   "metadata": {},
   "outputs": [],
   "source": [
    "# load parking meter locations information\n",
    "filename_csv = os.path.join(os.path.dirname(notebook_path), \"Data/Raw/treas_parking_meters_loc_datasd.csv\")\n",
    "locations = pd.read_csv(filename_csv)\n",
    "\n",
    "# create a short version of the config_name\n",
    "locations['short_config_name'] = locations['config_name']\n",
    "locations['short_config_name'] = locations['short_config_name'].str.split('HR', n=1, expand=True)[0]\n",
    "\n",
    "# remove multi-vehicle spots, special Stadium parking\n",
    "locations = locations[~(locations['short_config_name'].str.contains('MSPM')) &\n",
    "                      ~(locations['short_config_name'].str.contains('San Diego')) &\n",
    "                      ~(locations['short_config_name'].str.contains('Single Space'))]\n",
    "\n",
    "# remove Z-Spares\n",
    "locations = locations[locations['zone'] != 'Z-Spares']\n",
    "\n",
    "# create column for parking time_limit\n",
    "locations.loc[locations['short_config_name'].str.contains('15 Min'), 'time_limit'] = 0.25\n",
    "locations.loc[locations['short_config_name'].str.contains('30 Min'), 'time_limit'] = 0.50\n",
    "locations.loc[locations['short_config_name'].str.contains('1 Hour'), 'time_limit'] = 1\n",
    "locations.loc[locations['short_config_name'].str.contains('2 Hour'), 'time_limit'] = 2\n",
    "locations.loc[locations['short_config_name'].str.contains('4 Hour'), 'time_limit'] = 4\n",
    "locations.loc[locations['short_config_name'].str.contains('8 Hour'), 'time_limit'] = 8\n",
    "locations.loc[locations['short_config_name'].str.contains('9 Hour'), 'time_limit'] = 9\n",
    "\n",
    "# create column for hourly_rate\n",
    "locations['hourly_rate'] = locations['short_config_name']\n",
    "locations['hourly_rate'] = locations['hourly_rate'].str.split('$', n=1, expand=True)[1]\n",
    "locations['hourly_rate'] = locations['hourly_rate'].astype(str).str[0:4].astype(float)\n",
    "\n",
    "# Save a new locations file for easy plotting in Tableau\n",
    "locations.to_csv('Data/meter_locations.csv', header=True)"
   ]
  },
  {
   "cell_type": "markdown",
   "metadata": {},
   "source": [
    "#### Join transactions and locations dataframes"
   ]
  },
  {
   "cell_type": "code",
   "execution_count": 4,
   "metadata": {},
   "outputs": [
    {
     "data": {
      "text/html": [
       "<div>\n",
       "<style scoped>\n",
       "    .dataframe tbody tr th:only-of-type {\n",
       "        vertical-align: middle;\n",
       "    }\n",
       "\n",
       "    .dataframe tbody tr th {\n",
       "        vertical-align: top;\n",
       "    }\n",
       "\n",
       "    .dataframe thead th {\n",
       "        text-align: right;\n",
       "    }\n",
       "</style>\n",
       "<table border=\"1\" class=\"dataframe\">\n",
       "  <thead>\n",
       "    <tr style=\"text-align: right;\">\n",
       "      <th></th>\n",
       "      <th>uuid</th>\n",
       "      <th>pole_id</th>\n",
       "      <th>trans_start</th>\n",
       "      <th>meter_expire</th>\n",
       "      <th>duration</th>\n",
       "      <th>day_of_week</th>\n",
       "      <th>zone</th>\n",
       "      <th>area</th>\n",
       "      <th>sub_area</th>\n",
       "      <th>config_id</th>\n",
       "      <th>config_name</th>\n",
       "      <th>longitude</th>\n",
       "      <th>latitude</th>\n",
       "      <th>short_config_name</th>\n",
       "      <th>time_limit</th>\n",
       "      <th>hourly_rate</th>\n",
       "    </tr>\n",
       "  </thead>\n",
       "  <tbody>\n",
       "    <tr>\n",
       "      <th>0</th>\n",
       "      <td>SSG80519010100102125</td>\n",
       "      <td>G-805</td>\n",
       "      <td>2019-01-01 00:10:21</td>\n",
       "      <td>2019-01-01 00:10:21</td>\n",
       "      <td>0.0</td>\n",
       "      <td>1</td>\n",
       "      <td>Downtown</td>\n",
       "      <td>East Village</td>\n",
       "      <td>800 G ST</td>\n",
       "      <td>12494</td>\n",
       "      <td>2 Hour Max $1.25 HR 8am-6pm Mon-Sat (Mobile Pay)</td>\n",
       "      <td>-117.15711</td>\n",
       "      <td>32.712518</td>\n",
       "      <td>2 Hour Max $1.25</td>\n",
       "      <td>2.0</td>\n",
       "      <td>1.25</td>\n",
       "    </tr>\n",
       "    <tr>\n",
       "      <th>1</th>\n",
       "      <td>SSG80519010100102725</td>\n",
       "      <td>G-805</td>\n",
       "      <td>2019-01-01 00:10:27</td>\n",
       "      <td>2019-01-01 00:10:27</td>\n",
       "      <td>0.0</td>\n",
       "      <td>1</td>\n",
       "      <td>Downtown</td>\n",
       "      <td>East Village</td>\n",
       "      <td>800 G ST</td>\n",
       "      <td>12494</td>\n",
       "      <td>2 Hour Max $1.25 HR 8am-6pm Mon-Sat (Mobile Pay)</td>\n",
       "      <td>-117.15711</td>\n",
       "      <td>32.712518</td>\n",
       "      <td>2 Hour Max $1.25</td>\n",
       "      <td>2.0</td>\n",
       "      <td>1.25</td>\n",
       "    </tr>\n",
       "    <tr>\n",
       "      <th>2</th>\n",
       "      <td>SSG805190101091329250</td>\n",
       "      <td>G-805</td>\n",
       "      <td>2019-01-01 09:13:29</td>\n",
       "      <td>2019-01-01 11:13:29</td>\n",
       "      <td>120.0</td>\n",
       "      <td>1</td>\n",
       "      <td>Downtown</td>\n",
       "      <td>East Village</td>\n",
       "      <td>800 G ST</td>\n",
       "      <td>12494</td>\n",
       "      <td>2 Hour Max $1.25 HR 8am-6pm Mon-Sat (Mobile Pay)</td>\n",
       "      <td>-117.15711</td>\n",
       "      <td>32.712518</td>\n",
       "      <td>2 Hour Max $1.25</td>\n",
       "      <td>2.0</td>\n",
       "      <td>1.25</td>\n",
       "    </tr>\n",
       "    <tr>\n",
       "      <th>3</th>\n",
       "      <td>SSG805190101110113225</td>\n",
       "      <td>G-805</td>\n",
       "      <td>2019-01-01 11:01:13</td>\n",
       "      <td>2019-01-01 13:01:13</td>\n",
       "      <td>120.0</td>\n",
       "      <td>1</td>\n",
       "      <td>Downtown</td>\n",
       "      <td>East Village</td>\n",
       "      <td>800 G ST</td>\n",
       "      <td>12494</td>\n",
       "      <td>2 Hour Max $1.25 HR 8am-6pm Mon-Sat (Mobile Pay)</td>\n",
       "      <td>-117.15711</td>\n",
       "      <td>32.712518</td>\n",
       "      <td>2 Hour Max $1.25</td>\n",
       "      <td>2.0</td>\n",
       "      <td>1.25</td>\n",
       "    </tr>\n",
       "    <tr>\n",
       "      <th>4</th>\n",
       "      <td>SSG805190101115917125</td>\n",
       "      <td>G-805</td>\n",
       "      <td>2019-01-01 11:59:17</td>\n",
       "      <td>2019-01-01 13:59:17</td>\n",
       "      <td>120.0</td>\n",
       "      <td>1</td>\n",
       "      <td>Downtown</td>\n",
       "      <td>East Village</td>\n",
       "      <td>800 G ST</td>\n",
       "      <td>12494</td>\n",
       "      <td>2 Hour Max $1.25 HR 8am-6pm Mon-Sat (Mobile Pay)</td>\n",
       "      <td>-117.15711</td>\n",
       "      <td>32.712518</td>\n",
       "      <td>2 Hour Max $1.25</td>\n",
       "      <td>2.0</td>\n",
       "      <td>1.25</td>\n",
       "    </tr>\n",
       "  </tbody>\n",
       "</table>\n",
       "</div>"
      ],
      "text/plain": [
       "                    uuid pole_id         trans_start        meter_expire  \\\n",
       "0   SSG80519010100102125   G-805 2019-01-01 00:10:21 2019-01-01 00:10:21   \n",
       "1   SSG80519010100102725   G-805 2019-01-01 00:10:27 2019-01-01 00:10:27   \n",
       "2  SSG805190101091329250   G-805 2019-01-01 09:13:29 2019-01-01 11:13:29   \n",
       "3  SSG805190101110113225   G-805 2019-01-01 11:01:13 2019-01-01 13:01:13   \n",
       "4  SSG805190101115917125   G-805 2019-01-01 11:59:17 2019-01-01 13:59:17   \n",
       "\n",
       "   duration  day_of_week      zone          area  sub_area  config_id  \\\n",
       "0       0.0            1  Downtown  East Village  800 G ST      12494   \n",
       "1       0.0            1  Downtown  East Village  800 G ST      12494   \n",
       "2     120.0            1  Downtown  East Village  800 G ST      12494   \n",
       "3     120.0            1  Downtown  East Village  800 G ST      12494   \n",
       "4     120.0            1  Downtown  East Village  800 G ST      12494   \n",
       "\n",
       "                                        config_name  longitude   latitude  \\\n",
       "0  2 Hour Max $1.25 HR 8am-6pm Mon-Sat (Mobile Pay) -117.15711  32.712518   \n",
       "1  2 Hour Max $1.25 HR 8am-6pm Mon-Sat (Mobile Pay) -117.15711  32.712518   \n",
       "2  2 Hour Max $1.25 HR 8am-6pm Mon-Sat (Mobile Pay) -117.15711  32.712518   \n",
       "3  2 Hour Max $1.25 HR 8am-6pm Mon-Sat (Mobile Pay) -117.15711  32.712518   \n",
       "4  2 Hour Max $1.25 HR 8am-6pm Mon-Sat (Mobile Pay) -117.15711  32.712518   \n",
       "\n",
       "   short_config_name  time_limit  hourly_rate  \n",
       "0  2 Hour Max $1.25          2.0         1.25  \n",
       "1  2 Hour Max $1.25          2.0         1.25  \n",
       "2  2 Hour Max $1.25          2.0         1.25  \n",
       "3  2 Hour Max $1.25          2.0         1.25  \n",
       "4  2 Hour Max $1.25          2.0         1.25  "
      ]
     },
     "execution_count": 4,
     "metadata": {},
     "output_type": "execute_result"
    }
   ],
   "source": [
    "# join dataframes on pole/pole_id so that all information is available in one dataframe\n",
    "trans_locs_df = pd.merge(transactions, locations, left_on='pole_id', right_on='pole', how='inner')\n",
    "\n",
    "# drop unnecessary columns\n",
    "trans_locs_df = trans_locs_df.drop(['meter_type', 'trans_amt', 'pay_method', 'pole'], axis=1)\n",
    "trans_locs_df.head()"
   ]
  },
  {
   "cell_type": "markdown",
   "metadata": {},
   "source": [
    "### Calculate meter occupancy\n",
    "Meter occupancy is calculated for every hour of the day. As an example, consider a single meter 'CC-1003' during the one-hour time period from '2019-01-01 10:00:00' to '2019-01-01 10:59:00'. If there are any `trans_start` OR `meter_expire` events within that period, the meter is scored `is_occupied = 1` for that hour. Also finds transaction durations that are longer than 1 hour, and scores `is_occupied = 1` for the hours in-between the `trans_start` and `meter_expire` times.\n",
    "\n",
    "This analysis is limited to Tuesdays through Thursdays to capture parking behavior on  'typical' weekdays, and is further filtered between 8am-8pm to capture the full range of parking meter service times (although subgroups meters will have different service times within that range).\n",
    "\n",
    "**NOTE**: This takes a long time to run, so much of it is commented out. The final dataframe, `all_meter_counts`, is loaded at the end of this section from a stored .csv file."
   ]
  },
  {
   "cell_type": "code",
   "execution_count": 5,
   "metadata": {},
   "outputs": [],
   "source": [
    "def single_meter_occupancy(one_meter):\n",
    "    \n",
    "    # creates a dataframe resampled by datetime so that there is an\n",
    "    # entry for every hour of every day\n",
    "    # trans_start_count = number of transactions during that hour,\n",
    "    start_count = one_meter.set_index('trans_start').resample('1H').count()\n",
    "    start_count = start_count['uuid'].to_frame()\n",
    "    start_count = start_count.rename(index=str, columns={'uuid': 'trans_start_count'})\n",
    "    start_count = start_count.rename_axis(None, axis=1).rename_axis('event_time', axis=0)\n",
    " \n",
    "    # creates a dataframe resampled by datetime so that there is an\n",
    "    # entry for every hour of every day\n",
    "    # meter_expire_count = number of times the meter expired during that hour\n",
    "    expire_count = one_meter.set_index('meter_expire').resample('1H').count()\n",
    "    expire_count = expire_count['uuid'].to_frame()\n",
    "    expire_count = expire_count.rename(index=str, columns={'uuid': 'meter_expire_count'})\n",
    "    expire_count = expire_count.rename_axis(None, axis=1).rename_axis('event_time', axis=0)\n",
    "    \n",
    "    # combine dataframes on datetime index, then move the datetime to a column (reset index)\n",
    "    start_expire_count = pd.merge(start_count, expire_count, how='outer', left_index=True, right_index=True)\n",
    "    start_expire_count.index = pd.to_datetime(start_expire_count.index)\n",
    "    \n",
    "    # this section fills in gaps--if a person paid for more than 1 hour, the car might not be 'visible'\n",
    "    # a portion of the metered time. At the end of this section there will be a column of 'total_events'\n",
    "    # which basically indicates whether or not there was a car in that spot during a single hour.\n",
    "    for i, row in one_meter[one_meter['duration'] > 60].iterrows():\n",
    "        add_hour = 1\n",
    "        while (row.trans_start.hour + add_hour) < (row.trans_start.hour + row.duration/60):\n",
    "            tmp_time = row.trans_start.replace(microsecond=0, \n",
    "                                               second=0, minute=0).to_pydatetime()+timedelta(hours=add_hour)\n",
    "            start_expire_count.loc[tmp_time, 'trans_start_count'] = start_expire_count.loc[tmp_time, 'trans_start_count'] + 1\n",
    "            add_hour = add_hour + 1\n",
    "        \n",
    "    start_expire_count = start_expire_count.fillna(0)\n",
    "    start_expire_count = start_expire_count.reset_index()\n",
    "    \n",
    "    # add 'total_events' and 'is_occupied' values for every single hour\n",
    "    start_expire_count['total_events'] = start_expire_count['trans_start_count'] + start_expire_count['meter_expire_count']\n",
    "    start_expire_count['is_occupied'] = 0\n",
    "    start_expire_count.loc[(start_expire_count.total_events > 0),'is_occupied'] = 1\n",
    "    \n",
    "    return start_expire_count"
   ]
  },
  {
   "cell_type": "markdown",
   "metadata": {},
   "source": [
    "#### Loop through each meter \n",
    "This section loops through each individual meter, and calls the `single_meter_occupancy` function to calcuate whether at least one car has occupied that spot during each hour of the day (only weekdays from Tue-Thu are included). After calculating `is_occupied`, the dataframe is filtered to 8am-8pm only (to save space)."
   ]
  },
  {
   "cell_type": "code",
   "execution_count": 6,
   "metadata": {},
   "outputs": [],
   "source": [
    "## limit day_of_week to Tues (1) through Thurs (3)\n",
    "#weekday_df = trans_locs_df.copy()\n",
    "#weekday_df = weekday_df[(weekday_df['day_of_week'] > 0) & (weekday_df['day_of_week'] < 4)]\n",
    "#\n",
    "## Create new dataframe\n",
    "#all_meter_counts = pd.DataFrame()\n",
    "#\n",
    "## The actual loop\n",
    "#meter_list = weekday_df['pole_id'].unique()\n",
    "#for meter in meter_list:\n",
    "#    one_meter = weekday_df[weekday_df['pole_id'] == meter]\n",
    "#    start_expire_count = single_meter_occupancy(one_meter)\n",
    "#\n",
    "#    # make a dataframe that contains *all* information from a single meter\n",
    "#    one_meter_counts = pd.DataFrame(index=range(len(start_expire_count)))\n",
    "#    one_meter_counts['pole_id'] = one_meter.iloc[0].pole_id\n",
    "#    one_meter_counts['zone'] = one_meter.iloc[0].zone\n",
    "#    one_meter_counts['area'] = one_meter.iloc[0].area\n",
    "#    one_meter_counts['sub_area'] = one_meter.iloc[0].sub_area\n",
    "#    one_meter_counts['longitude'] = one_meter.iloc[0].longitude\n",
    "#    one_meter_counts['latitude'] = one_meter.iloc[0].latitude\n",
    "#    one_meter_counts['short_config_name'] = one_meter.iloc[0].short_config_name\n",
    "#    one_meter_counts['time_limit'] = one_meter.iloc[0].time_limit\n",
    "#    one_meter_counts['hourly_rate'] = one_meter.iloc[0].hourly_rate\n",
    "#    one_meter_counts['event_time'] = start_expire_count['event_time']\n",
    "#    one_meter_counts['total_events'] = start_expire_count['total_events']\n",
    "#    one_meter_counts['is_occupied'] = start_expire_count['is_occupied']\n",
    "#\n",
    "#    # append that single meter df to the larger (all meters) dataframe\n",
    "#    all_meter_counts = all_meter_counts.append(one_meter_counts)\n",
    "#\n",
    "## add day_of_week and hour information\n",
    "#all_meter_counts['day_of_week'] = all_meter_counts.event_time.dt.dayofweek    \n",
    "#all_meter_counts['hour'] = all_meter_counts.event_time.dt.hour\n",
    "#    \n",
    "## Filter data for 8am-8pm only\n",
    "#all_meter_counts = all_meter_counts[(all_meter_counts['hour'] >= 8) & (all_meter_counts['hour'] < 21)]\n",
    "#\n",
    "## save to .csv file\n",
    "#all_meter_counts.to_csv('Data/all_meter_counts.csv', header=True)"
   ]
  },
  {
   "cell_type": "markdown",
   "metadata": {},
   "source": [
    "#### Load saved all_meter_counts file (don't recalculate it)"
   ]
  },
  {
   "cell_type": "code",
   "execution_count": 7,
   "metadata": {},
   "outputs": [
    {
     "name": "stderr",
     "output_type": "stream",
     "text": [
      "/Users/marissawesterfield/anaconda3/lib/python3.6/site-packages/numpy/lib/arraysetops.py:472: FutureWarning: elementwise comparison failed; returning scalar instead, but in the future will perform elementwise comparison\n",
      "  mask |= (ar1 == a)\n"
     ]
    }
   ],
   "source": [
    "all_meter_counts = pd.read_csv('Data/all_meter_counts.csv', index_col=0, parse_dates=['event_time'])"
   ]
  },
  {
   "cell_type": "markdown",
   "metadata": {},
   "source": [
    "#### some housekeeping\n",
    "This code should have been included in the previous loop-through-meters, will be cleaned up later"
   ]
  },
  {
   "cell_type": "code",
   "execution_count": 8,
   "metadata": {},
   "outputs": [],
   "source": [
    "all_meter_counts['date'] = all_meter_counts.event_time.dt.date\n",
    "all_meter_counts = all_meter_counts[(all_meter_counts['day_of_week'] > 0) & (all_meter_counts['day_of_week'] < 4)]\n",
    "\n",
    "all_meter_counts.to_csv('Data/all_meter_counts.csv', header=True)"
   ]
  },
  {
   "cell_type": "markdown",
   "metadata": {},
   "source": [
    "#### Use number of start_trans and meter_expire events to calculate block occupancy\n",
    "First find the percent of meters in a sub_area that are occupied each hour of every day. Next, find the mean percent-occupied in a sub_area during each hour *across* days."
   ]
  },
  {
   "cell_type": "code",
   "execution_count": 9,
   "metadata": {},
   "outputs": [],
   "source": [
    "# calculate percent of meters filled in a sub_area every hour\n",
    "tmp_series1 = all_meter_counts.groupby(['sub_area','date','hour']).is_occupied.sum() / all_meter_counts.groupby('sub_area').pole_id.nunique()\n",
    "tmp_series2 = pd.DataFrame(tmp_series1)\n",
    "tmp_series2 = tmp_series2.rename(columns={list(tmp_series2)[0]: 'prct_occupied'})\n",
    "\n",
    "# calculate mean percent-occupied across days\n",
    "block_occupancy = pd.DataFrame(tmp_series2.groupby(['sub_area','hour']).prct_occupied.mean())\n",
    "block_occupancy.reset_index(inplace=True)\n",
    "\n",
    "# merge the meter locations data with the block_occupancy data so that we can plot\n",
    "block_occupancy = pd.merge(locations, block_occupancy,\n",
    "                           left_on='sub_area', right_on='sub_area', how='left')\n",
    "\n",
    "block_occupancy.to_csv('Data/block_occupancy.csv', header=True)"
   ]
  },
  {
   "cell_type": "code",
   "execution_count": null,
   "metadata": {},
   "outputs": [],
   "source": []
  },
  {
   "cell_type": "code",
   "execution_count": null,
   "metadata": {},
   "outputs": [],
   "source": []
  }
 ],
 "metadata": {
  "kernelspec": {
   "display_name": "Python 3",
   "language": "python",
   "name": "python3"
  },
  "language_info": {
   "codemirror_mode": {
    "name": "ipython",
    "version": 3
   },
   "file_extension": ".py",
   "mimetype": "text/x-python",
   "name": "python",
   "nbconvert_exporter": "python",
   "pygments_lexer": "ipython3",
   "version": "3.6.8"
  }
 },
 "nbformat": 4,
 "nbformat_minor": 2
}

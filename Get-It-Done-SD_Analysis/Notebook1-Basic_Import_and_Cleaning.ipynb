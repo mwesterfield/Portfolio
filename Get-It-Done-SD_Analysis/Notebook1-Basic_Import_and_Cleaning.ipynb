{
 "cells": [
  {
   "cell_type": "markdown",
   "metadata": {},
   "source": [
    "# Analysis of time-to-resolve Get It Done San Diego requests\n",
    "## Notebook 1: Basic import and cleaning\n",
    "This notebook details import and cleaning of data from the City of San Diego's Get It Done app. The Get It Done App is similar to other 311 services in that it enables San Diego residents to report problems to the city; in this case residents can report via phone app, website, or phone call. The Get It Done database contains all of the reports filed since the app's launch in May 2016.\n",
    "\n",
    "The overall goal of this analysis is to determine whether there are any identifiable patterns in the amount of time it takes to resolve an individual issue. To this end, demographic information from the 2010 Census is incorporated into the dataset. This information is available at the zipcode level, and will be matched to the zipcode associated with each individual Get It Done request.\n",
    "\n",
    "NOTE ABOUT DATA AND RUNTIME: Zipped versions of the .csv files used in this notebook can be found in the /data subdirectory. Some of these cells take a very long time to run (it takes about 3-4 hours to run this entire notebook), so please look for warnings in the description above each cell before deciding to run it. If you just want to mess around with the dataframes after the different processing stages below, you can load either 'gid_with_zipcodes.csv', 'gid_with_zip_load.csv' or 'gid_with_demo.csv'"
   ]
  },
  {
   "cell_type": "markdown",
   "metadata": {},
   "source": [
    "### Load all necessary libraries"
   ]
  },
  {
   "cell_type": "code",
   "execution_count": 1,
   "metadata": {},
   "outputs": [],
   "source": [
    "import glob\n",
    "import pandas as pd\n",
    "from datetime import timedelta\n",
    "import numpy as np\n",
    "from uszipcode import Zipcode, SearchEngine\n",
    "import matplotlib.pyplot as plt"
   ]
  },
  {
   "cell_type": "markdown",
   "metadata": {},
   "source": [
    "### Import and append original CSV files, remove duplicate requests\n",
    "As of 11/17/2018, the San Diego Open Data Portal has made several large revisions to this data\n",
    "\n",
    "* Instead of one continually overwritten csv file, it is now broken up by year, so there are separate files for 2016, 2017, and 2018(YTD)\n",
    "* Many of the columns have been dropped: The original dataset had 38 columns; the version in 9/11/2018 had 29 (the 'question' and 'answer' columns were dropped); the current version is down to 12 columns. Some of the previous columns have been merged into single fields\n",
    "* Information about duplicate requests has been dropped\n",
    "\n",
    "So a little extra processing is needed to remove duplicate requests where possible:\n",
    "1. Extract duplicate request information from old dataset\n",
    "2. Load and concatenate updated versions of datasets\n",
    "3. Join the full dataset with the dataframe containing duplicate information; drop columns that track duplicate information\n",
    "4. Also, remove cancelled requests"
   ]
  },
  {
   "cell_type": "code",
   "execution_count": 2,
   "metadata": {},
   "outputs": [],
   "source": [
    "# Load and concatenate updated versions of datasets\n",
    "gid_df = pd.concat([pd.read_csv(f,\n",
    "                               parse_dates=['requested_datetime','updated_datetime'],\n",
    "                               usecols=['service_request_id','requested_datetime','service_name',\n",
    "                                        'case_record_type','updated_datetime','status',\n",
    "                                        'lat','long','district','case_origin']) \n",
    "                    for f in glob.glob('data/get_it_done_201*.csv')], ignore_index = True)\n",
    "\n",
    "# Drop rows with NaN values\n",
    "gid_df = gid_df.dropna(axis=0, how='any', subset=['service_request_id','requested_datetime',\n",
    "                                        'service_name','case_record_type',\n",
    "                                        'status','lat','long','district','case_origin'])\n",
    "\n",
    "# Change district from float to integer (it's a categorical variable, not a number)\n",
    "gid_df.district = gid_df.district.astype(int, copy=False)\n",
    "\n",
    "# Extract duplicate request information from old dataset\n",
    "gid_duplicates = pd.read_csv('data/OLD_get_it_done_311_requests_datasd_20180729.csv',\n",
    "                               usecols=['service_request_id',\n",
    "                                        'parent_case_number','duplicate_verified'])\n",
    "\n",
    "# drop any rows if there are NaN values in service_request_id\n",
    "gid_duplicates = gid_duplicates.dropna(axis=0, how='any', subset=['service_request_id'])\n",
    "\n",
    "# If request has a parent id, change duplicate_verified to 1\n",
    "gid_duplicates.loc[(gid_duplicates.parent_case_number > 0), 'duplicate_verified'] = 1\n",
    "\n",
    "# Drop rows if any column *except* 'updated_datetime' has a NaN\n",
    "gid_df = gid_df.dropna(axis=0, how='any', subset=['service_request_id','requested_datetime',\n",
    "                                        'service_name','case_record_type',\n",
    "                                        'status','lat','long','district','case_origin'])\n",
    "\n",
    "# Join the two dataframes on service_request_id (unique identifier)\n",
    "gid_df = pd.merge(gid_df, gid_duplicates, on='service_request_id', how='left')\n",
    "\n",
    "# Drop records that are tagged as duplicates (from older dataset)\n",
    "gid_df = gid_df[gid_df.duplicate_verified != 1]\n",
    "\n",
    "# Drop records that are tagged as duplicates (in newer dataset)\n",
    "gid_df = gid_df[gid_df.status != 'Duplicate']\n",
    "\n",
    "# Drop the 'parent_case_number' and 'duplicate_verified' columns because\n",
    "# we no longer need them\n",
    "gid_df = gid_df.drop(['parent_case_number', 'duplicate_verified'], axis=1)\n",
    "\n",
    "# remove 'cancelled' requests (there are only 62 of these, and this is no longer included in \n",
    "# the 'status' field as of 1/1/2019)\n",
    "gid_df = gid_df[gid_df['status'] != 'Cancelled']"
   ]
  },
  {
   "cell_type": "markdown",
   "metadata": {},
   "source": [
    "### Combine or remove some service_names\n",
    "Some service_name categories are clearly mistakes and should be combined or removed altogether--such as 'STREET LIGHT LIGHT ON DURING DAY' and 'STREET LIGHT ON DURING DAY' or '--SELECT ANSWER--'"
   ]
  },
  {
   "cell_type": "code",
   "execution_count": 3,
   "metadata": {},
   "outputs": [],
   "source": [
    "# Change all service_name labels to all UPPERCASE\n",
    "gid_df['service_name'] = gid_df['service_name'].str.upper()\n",
    "\n",
    "# SERVICE_NAME FIXES\n",
    "# remove '--SELECT ANSWER--'\n",
    "gid_df = gid_df[gid_df['service_name'] != '--SELECT ANSWER--']\n",
    "\n",
    "# combine 'STREET LIGHT' categories\n",
    "gid_df.loc[(gid_df['service_name']=='STREET LIGHT STREET LIGHT OUT'),\n",
    "           'service_name'] = 'STREET LIGHT OUT'\n",
    "\n",
    "gid_df.loc[(gid_df['service_name']=='STREET LIGHT LIGHT ON DURING THE DAY') |\n",
    "           (gid_df['service_name']=='STREET LIGHT LIGHT ON DURING DAY'),\n",
    "           'service_name'] = 'STREET LIGHT ON DURING DAY'\n",
    "\n",
    "# combine 'TRAFFIC SIGNAL' categories\n",
    "gid_df.loc[(gid_df['service_name']=='TRAFFIC SIGNAL TRAFFIC SIGNAL-TRAFFIC SIGNAL'),\n",
    "           'service_name'] = 'TRAFFIC SIGNAL OTHER PROBLEM'\n",
    "gid_df.loc[(gid_df['service_name']=='TRAFFIC SIGNAL POLE KNOCK OVER/DAMAGE'),\n",
    "           'service_name'] = 'TRAFFIC SIGNAL KNOCK OVER/DAMAGE'\n",
    "gid_df.loc[(gid_df['service_name']=='TRAFFIC SIGNAL LIGHTS OUT'),\n",
    "           'service_name'] = 'TRAFFIC SIGNAL LIGHT OUT'\n",
    "gid_df.loc[(gid_df['service_name']=='TRAFFIC SIGNAL LIGHTS ON FLASH'),\n",
    "           'service_name'] = 'TRAFFIC SIGNAL ON FLASH'\n",
    "\n",
    "# convert Spanish-to-English\n",
    "gid_df.loc[(gid_df['service_name']=='VIOLACIÓN 72 HORAS'),\n",
    "           'service_name'] = '72 HOUR VIOLATION'"
   ]
  },
  {
   "cell_type": "markdown",
   "metadata": {},
   "source": [
    "### Add columns to provide more information about how long it takes to resolve a request\n",
    "The amount of time it takes to resolve a report will be the primary outcome measure of this analysis, so the 'requested_datetime' and 'closed_date' columns need to be transformed to more useful information.\n",
    "\n",
    "1. Create a new timedelta variable that is the amount of time lapsed from opening a request to when the request was closed.\n",
    "2. Convert those timedelta vaules into floats representing 'how many days' to close\n",
    "\n",
    "An additional column ('resolved') is created to represent whether a request is resolved."
   ]
  },
  {
   "cell_type": "code",
   "execution_count": 4,
   "metadata": {},
   "outputs": [],
   "source": [
    "# create new column datetime_till_closed\n",
    "gid_df['datetime_till_closed'] = gid_df['updated_datetime'] - gid_df['requested_datetime']\n",
    "\n",
    "# create new floats column days_till_closed\n",
    "gid_df['days_till_closed'] = gid_df['datetime_till_closed'] / timedelta (days=1)\n",
    "\n",
    "# Add one column to track resolved vs unresolved, where 'resolved' = ['Closed - Referred', 'Closed', 'Referred']\n",
    "# and 'unresolved' are all other requests\n",
    "gid_df['resolved'] = 0\n",
    "gid_df.loc[(gid_df['status'] == 'Closed') |\n",
    "           (gid_df['status'] == 'Closed - Referred') |\n",
    "           (gid_df['status'] == 'Referred'),\n",
    "           'resolved'] = 1"
   ]
  },
  {
   "cell_type": "markdown",
   "metadata": {},
   "source": [
    "### Add zipcode information to each request by converting latitude/longitude values\n",
    "WARNING: This about 20 minutes to run! You can load 'data/gid_with_zipcodes.csv' to examine the dataframe after processing in this cell.\n",
    "\n",
    "Residents have the option of entering an address along with their request, but don't always do so. Residents are also asked to mark the location of the problem on a map of the city, and the latitude/longitude values from that are stored along with the request; almost every request *does* include latitude/longitude values.\n",
    "\n",
    "I used the uszipcode database and search engine (available at https://pypi.org/project/uszipcode/) to convert lat/long values to zipcodes for every request."
   ]
  },
  {
   "cell_type": "code",
   "execution_count": 5,
   "metadata": {},
   "outputs": [],
   "source": [
    "# first create zipcode lookup using uszipcode library\n",
    "search = SearchEngine(simple_zipcode=True)\n",
    "\n",
    "# next add zipcode column to dataframe\n",
    "gid_df['zipcode'] = ''\n",
    "\n",
    "# this function looks up zipcode for a single gid request\n",
    "def lookup_zipcode(row):\n",
    "    result = search.by_coordinates(row.lat, row.long, radius=1.0)\n",
    "    if len(result) > 0:\n",
    "        zip2 = result[0].zipcode\n",
    "        return zip2\n",
    "\n",
    "    # if we can't find a zipcode within a 1-mile radius, increase to 2-mile radius\n",
    "    else:\n",
    "        result = search.by_coordinates(row.lat, row.long, radius=2.0)\n",
    "        if len(result) > 0:\n",
    "            zip2 = result[0].zipcode\n",
    "            return zip2\n",
    "        \n",
    "        # if 2-mile radius didn't work, increase to 3-mile radius\n",
    "        else:\n",
    "            result = search.by_coordinates(row.lat, row.long, radius=3.0)\n",
    "            if len(result) > 0:\n",
    "                zip2 = result[0].zipcode\n",
    "                return zip2\n",
    "            \n",
    "            # if 3-mile radius didn't work, give up and return NaN\n",
    "            else:\n",
    "                return(np.nan)\n",
    "\n",
    "gid_df.loc[:,['zipcode']] = gid_df.apply(lookup_zipcode, axis=1)\n",
    "\n",
    "# Again, drop rows that have any NaN values \n",
    "gid_df = gid_df.dropna(axis=0, how='any', subset=['zipcode'])\n",
    "\n",
    "# Verify that zipcodes are now added to the gid_requests dataframe\n",
    "gid_df['zipcode'].head()\n",
    "\n",
    "# Save progress so far\n",
    "#gid_df.to_csv('data\\gid_with_zipcodes.csv', header=True)"
   ]
  },
  {
   "cell_type": "markdown",
   "metadata": {},
   "source": [
    "### Add columns to reflect service 'load'\n",
    "WARNING: This section takes *hours* to run. You can load 'data/gid_with_zip_load.csv' to get the dataframe after processing in this cell.\n",
    "\n",
    "The goal is to add some features that may help a model predict how long it takes to close a request. These two new features ('load_by_service' and 'load_by_service_zip') show how many open requests there are for that same type of request (e.g. 'STREET LIGHT OUT') when a new one is entered into the queue. 'load_by_service' is the number of open requests in that same category across the entire city; 'load_by_service_zip' is the number of open requests in that same category in the same zipcode as the new request. Code structure is as follows:\n",
    "1. We need two sorted dataframes - one sorted by requested_datetime (the default), one sorted by updated_datetime (has to be filtered for status = 'Closed' only)\n",
    "2. Then there is a big ugly loop section to figure out how many 'open' service requests there are for an individual request_id entry. We'll figure out both how many open service requests there are with the same service_name, and then how many with the same service_name AND in the same zipcode"
   ]
  },
  {
   "cell_type": "code",
   "execution_count": 6,
   "metadata": {},
   "outputs": [],
   "source": [
    "# Add two new columns: load_by_service, load_by_service_zip\n",
    "gid_df['load_by_service'] = 0\n",
    "gid_df['load_by_service_zip'] = 0\n",
    "\n",
    "# Create sorted dataframe\n",
    "gid_closed_sorted = gid_df[gid_df['status']=='Closed'].sort_values(by='updated_datetime')\n",
    "\n",
    "# Outer loop cycles through service_name\n",
    "for service in gid_df.service_name.unique():\n",
    "    # create df's for only that service_name\n",
    "    service_df = gid_df[gid_df['service_name'] == service]\n",
    "    service_closed_df = gid_closed_sorted[gid_closed_sorted['service_name'] == service]\n",
    "    \n",
    "    # inner loop cycles through individual request_id's\n",
    "    for request in service_df.service_request_id:\n",
    "        # find the row index, date, and zipcode of the request\n",
    "        idx = service_df.loc[service_df['service_request_id']==request].index[0]\n",
    "        current_date = service_df.loc[idx].requested_datetime\n",
    "        current_zip = service_df.loc[idx].zipcode\n",
    "        # how many requests have been made up to this point (total and in zipcode)\n",
    "        all_requests = len(service_df[service_df['requested_datetime'] < current_date])\n",
    "        all_requests_zip = len(service_df[(service_df['requested_datetime'] < current_date) &\n",
    "                                      (service_df['zipcode'] == current_zip)])\n",
    "        # how many of those requests are already closed?\n",
    "        closed_requests = len(service_closed_df[service_closed_df['updated_datetime'] < current_date])\n",
    "        closed_requests_zip = len(service_closed_df[(service_closed_df['updated_datetime'] < current_date) &\n",
    "                                                (service_closed_df['zipcode'] == current_zip)])\n",
    "        # fill in load_by_service and load_by_service_zip\n",
    "        idx_master_df = gid_df.loc[gid_df['service_request_id'] == request].index[0]\n",
    "        gid_df.loc[idx_master_df,'load_by_service'] = all_requests - closed_requests\n",
    "        gid_df.loc[idx_master_df,'load_by_service_zip'] = all_requests_zip - closed_requests_zip\n",
    "    \n",
    "#gid_df.to_csv('data\\gid_with_zip_load.csv', header=True)"
   ]
  },
  {
   "cell_type": "markdown",
   "metadata": {},
   "source": [
    "### Import 2010 Census demographic information\n",
    "The median household income, housing value, and age come from the SANDAG spreadsheet. Additional population density per square mile comes from [https://blog.splitwise.com/2014/01/06/free-us-population-density-and-unemployment-rate-by-zip-code/]. Both spreadsheets are coded by zipcode."
   ]
  },
  {
   "cell_type": "code",
   "execution_count": 9,
   "metadata": {},
   "outputs": [],
   "source": [
    "sandag_file = 'data/censusacs_2010_zip_all_2018_09_11 03_52.xlsx'\n",
    "sandag_data = pd.ExcelFile(sandag_file)\n",
    "\n",
    "# Parse and extract median household income\n",
    "household_income = sandag_data.parse('Household Income', skiprows=1, names=['zipcode','year', 'measure', 'household_income'])\n",
    "household_income['zipcode'] = household_income['zipcode'].astype(str)\n",
    "household_income = household_income.set_index('zipcode')\n",
    "household_income = household_income.loc[household_income['measure'] == 'median income']\n",
    "household_income = household_income.loc[:,['household_income']]\n",
    "\n",
    "# Parse and extract median housing value\n",
    "housing_value = sandag_data.parse('Housing Value', skiprows=1, names=['zipcode','year', 'measure', 'housing_value'])\n",
    "housing_value['zipcode'] = housing_value['zipcode'].astype(str)\n",
    "housing_value = housing_value.set_index('zipcode')\n",
    "housing_value = housing_value.loc[housing_value['measure'] == 'median value']\n",
    "housing_value = housing_value.loc[:,['housing_value']]\n",
    "\n",
    "# Parse and extract median age\n",
    "age = sandag_data.parse('Age and Sex', skiprows=1, names=['zipcode','year','measure','median_age','age_male','age_female'])\n",
    "age['zipcode'] = age['zipcode'].astype(str)\n",
    "age = age.set_index('zipcode')\n",
    "age = age.loc[age['measure'] == 'median']\n",
    "age = age.drop(['age_male', 'age_female'], axis=1)\n",
    "\n",
    "# Merge these three dataframes together\n",
    "demographic_info = pd.merge(household_income, housing_value, on=['zipcode'], how='outer')\n",
    "demographic_info = pd.merge(demographic_info, age, on=['zipcode'], how='outer')\n",
    "demographic_info = demographic_info.drop(['year','measure'], axis=1)\n",
    "\n",
    "# One more dataset (population density)!\n",
    "pop_density = pd.read_csv('data/Zipcode-ZCTA-Population-Density-And-Area-Unsorted.csv', dtype={'Zip/ZCTA':str})\n",
    "pop_density.rename(columns={'Zip/ZCTA': 'zipcode', 'Density Per Sq Mile': 'pop_density'}, inplace=True)\n",
    "pop_density = pop_density.set_index('zipcode')\n",
    "\n",
    "# Merge the final dataset\n",
    "demographic_info = pd.merge(demographic_info, pop_density, on=['zipcode'], how='left')\n",
    "demographic_info = demographic_info.drop(['2010 Population','Land-Sq-Mi'], axis=1)\n",
    "\n",
    "#demographic_info.to_csv('Demographic_Info.csv')"
   ]
  },
  {
   "cell_type": "markdown",
   "metadata": {},
   "source": [
    "This scatterplot (below) of median housing value vs. median household income is meant as a sanity check. The plot actually does indicate a potential problem with the data. The first housing value of 1.4 million seems improbable, given that is associated with a median annual income of less than $60K. Upon examing the original SANDAG spreadsheet more closely, it turns out that there are several zipcodes that should be excluded from further analysis:\n",
    "\n",
    "* 92093 - University of California at San Diego\n",
    "* 92134 - Balboa Park\n",
    "* 92135 - Coronado Air Base and Naval Station\n",
    "* 92145 - Miramar Air Base\n",
    "* 92140 - Lindberg Field (the San Diego airport)\n",
    "* 92155 - Silver Strand military housing"
   ]
  },
  {
   "cell_type": "code",
   "execution_count": 10,
   "metadata": {},
   "outputs": [
    {
     "data": {
      "image/png": "[encoded data removed]",
      "text/plain": [
       "<Figure size 432x288 with 1 Axes>"
      ]
     },
     "metadata": {},
     "output_type": "display_data"
    }
   ],
   "source": [
    "demographic_info.plot(kind='scatter', x='household_income', y='housing_value')\n",
    "plt.show()"
   ]
  },
  {
   "cell_type": "markdown",
   "metadata": {},
   "source": [
    "### Merge the gid_requests dataframe with the SANDAG demographic dataframe, remove unrepresentative zip codes\n",
    "After merging, drop all requests from the outlier zipcodes listed above"
   ]
  },
  {
   "cell_type": "code",
   "execution_count": 11,
   "metadata": {},
   "outputs": [],
   "source": [
    "gid_with_demo = pd.merge(gid_df, demographic_info, on=['zipcode'], how='left')\n",
    "\n",
    "# Remove requests from 'odd' zipcodes\n",
    "gid_with_demo = gid_with_demo[gid_with_demo.zipcode != '92093']\n",
    "gid_with_demo = gid_with_demo[gid_with_demo.zipcode != '92134']\n",
    "gid_with_demo = gid_with_demo[gid_with_demo.zipcode != '92135']\n",
    "gid_with_demo = gid_with_demo[gid_with_demo.zipcode != '92145']\n",
    "gid_with_demo = gid_with_demo[gid_with_demo.zipcode != '92140']\n",
    "gid_with_demo = gid_with_demo[gid_with_demo.zipcode != '92155']\n",
    "\n",
    "# save merged, cleaned dataframe to CSV file\n",
    "#gid_with_demo.to_csv('data\\gid_with_demo.csv', header=True)"
   ]
  },
  {
   "cell_type": "code",
   "execution_count": null,
   "metadata": {},
   "outputs": [],
   "source": []
  }
 ],
 "metadata": {
  "kernelspec": {
   "display_name": "Python 3",
   "language": "python",
   "name": "python3"
  },
  "language_info": {
   "codemirror_mode": {
    "name": "ipython",
    "version": 3
   },
   "file_extension": ".py",
   "mimetype": "text/x-python",
   "name": "python",
   "nbconvert_exporter": "python",
   "pygments_lexer": "ipython3",
   "version": "3.6.8"
  }
 },
 "nbformat": 4,
 "nbformat_minor": 2
}

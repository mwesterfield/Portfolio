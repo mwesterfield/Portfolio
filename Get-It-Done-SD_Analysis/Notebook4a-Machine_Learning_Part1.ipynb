{
 "cells": [
  {
   "cell_type": "markdown",
   "metadata": {},
   "source": [
    "# Analysis of time-to-resolve Get It Done San Diego requests\n",
    "## Notebook 4a: Machine Learning (Part 1)\n",
    "### Choosing between models\n",
    "After cleaning the Get It Done dataset and doing some preliminary EDA, I now want to be able to predict how long it will take to close any given request. After initial OOB tests with various types of prediction methods, Random Forest Classifiers and Random Forest Regressors emerged as the most promising model types (methods tried but not shown in this notebook: linear regression, logistic regression, Gradient Boost trees, ADA Boost trees, Naive Bayes classifiers).\n",
    "\n",
    "This notebook will document: 1) processing steps taken to prepare the data to use in training and testing the two types of Random Forest models, and 2) a comparison of the performance of each model. The next notebook (4b - Machine Learning, Part 2) will show document hyperparameter tuning for the final selected model."
   ]
  },
  {
   "cell_type": "markdown",
   "metadata": {},
   "source": [
    "### 1 - Import libraries, import data and do some final cleaning"
   ]
  },
  {
   "cell_type": "code",
   "execution_count": 17,
   "metadata": {},
   "outputs": [],
   "source": [
    "# import libraries\n",
    "import pandas as pd\n",
    "import numpy as np\n",
    "import matplotlib.pyplot as plt\n",
    "import seaborn as sns\n",
    "\n",
    "import os\n",
    "notebook_path = os.path.abspath(\"Notebook4a-Machine_Learning_Part1.ipynb\")\n",
    "\n",
    "from sklearn.preprocessing import RobustScaler\n",
    "from sklearn.model_selection import train_test_split\n",
    "from sklearn.utils import resample\n",
    "from sklearn.metrics import confusion_matrix, classification_report, roc_curve\n",
    "\n",
    "from sklearn.linear_model import LogisticRegression\n",
    "from sklearn.ensemble import RandomForestRegressor\n",
    "from sklearn.ensemble import RandomForestClassifier\n",
    "from sklearn.metrics import accuracy_score, f1_score"
   ]
  },
  {
   "cell_type": "markdown",
   "metadata": {},
   "source": [
    "#### *Discarding some requests* \n",
    "We will only use 'closed' requests because none of the other types (i.e. 'referred' or 'cancelled') have updated datetime information in the database. Almost all request types, from all sources (whether initiated by the public or city officials) are included in this model. The one exception is for 'Graffiti Removal' requests entered by City workers, because those requests are marked 'closed' as soon as they are entered into the database. My interpretation is that in this one case, City workers use the Get It Done database to log work that they've already completed, rather than to create records for work that needs to be done in the future."
   ]
  },
  {
   "cell_type": "code",
   "execution_count": 18,
   "metadata": {},
   "outputs": [],
   "source": [
    "filename_csv = os.path.join(os.path.dirname(notebook_path), \"gid_with_demo.csv\")\n",
    "gid_with_demo = pd.read_csv(filename_csv, index_col=0)\n",
    "gid_with_demo.set_index('service_request_id', inplace=True)\n",
    "predictor_df = gid_with_demo.copy()\n",
    "\n",
    "# Only use closed requests\n",
    "predictor_df = predictor_df[predictor_df.status=='Closed']\n",
    "\n",
    "# Remove Crew/Self Generated Graffiti Removal requests\n",
    "predictor_df = predictor_df.drop(predictor_df[(predictor_df.case_origin == 'Crew/Self Generated') & \n",
    "                             (predictor_df.service_name == 'Graffiti Removal')].index)\n",
    "\n",
    "# Drop all unneeded columns\n",
    "predictor_df = predictor_df.drop(columns=['requested_datetime','updated_datetime','status',\n",
    "                                          'lat','long','datetime_till_closed','resolved',\n",
    "                                          'zipcode','housing_value','median_age'],axis=1)\n",
    "\n",
    "# Get rid of any NaN values that may have slipped through\n",
    "predictor_df = predictor_df.dropna(axis=0, how='any', subset=['service_name','case_record_type',\n",
    "                                          'district','case_origin','days_till_closed','load_by_service',\n",
    "                                          'load_by_service_zip','household_income','pop_density'])"
   ]
  },
  {
   "cell_type": "markdown",
   "metadata": {},
   "source": [
    "### 2 - Preparation for model training"
   ]
  },
  {
   "cell_type": "markdown",
   "metadata": {},
   "source": [
    "#### *Add a column ('closed_bin') to use as labels for the classifier model*\n",
    "This column will be used for the multi-class model, but not for the regression model. It's easier to add it to the dataframe here before normalization and splitting into test and training sets."
   ]
  },
  {
   "cell_type": "code",
   "execution_count": 19,
   "metadata": {},
   "outputs": [],
   "source": [
    "predictor_df['closed_bin'] = ''\n",
    "predictor_df.loc[(predictor_df.days_till_closed < 6), 'closed_bin'] = 0\n",
    "predictor_df.loc[((predictor_df.days_till_closed >= 6) & \n",
    "                  (predictor_df.days_till_closed < 31)), 'closed_bin'] = 1\n",
    "predictor_df.loc[((predictor_df.days_till_closed >= 31) & \n",
    "                  (predictor_df.days_till_closed < 61)), 'closed_bin'] = 2\n",
    "predictor_df.loc[(predictor_df.days_till_closed >= 61), 'closed_bin'] = 3"
   ]
  },
  {
   "cell_type": "markdown",
   "metadata": {},
   "source": [
    "#### *Get dummy variables for categorical values*"
   ]
  },
  {
   "cell_type": "code",
   "execution_count": 20,
   "metadata": {},
   "outputs": [],
   "source": [
    "predictor_df = pd.get_dummies(predictor_df, prefix=['service_name','case_record_type','district','case_origin'], \n",
    "                              columns=['service_name','case_record_type','district','case_origin'])"
   ]
  },
  {
   "cell_type": "markdown",
   "metadata": {},
   "source": [
    "#### *Separate the training and test sets*\n",
    "This is done *before* upsampling. We'll upsample the training set only so there is no 'bleed' through to the test set; in other words, no chance that the same record appears in both the training and testing set. I'm doing the train-test split manually below instead of using the sci-kit learn function, and *then* will separate into X and y sets."
   ]
  },
  {
   "cell_type": "code",
   "execution_count": 21,
   "metadata": {},
   "outputs": [],
   "source": [
    "import random\n",
    "\n",
    "split = 0.75 # save 25% of data for test set\n",
    "train = pd.DataFrame()\n",
    "test = pd.DataFrame()\n",
    "indices = np.array(range(len(predictor_df)))\n",
    "random.Random(7).shuffle(indices)    # Random(XX) is the random seed for reproducibility\n",
    "split_idx = int(len(indices) * split)\n",
    "train = predictor_df.iloc[indices[:split_idx+1]]\n",
    "test = predictor_df.iloc[indices[split_idx+1:]]"
   ]
  },
  {
   "cell_type": "markdown",
   "metadata": {},
   "source": [
    "#### *Upsample the training data*"
   ]
  },
  {
   "cell_type": "code",
   "execution_count": 22,
   "metadata": {},
   "outputs": [
    {
     "name": "stdout",
     "output_type": "stream",
     "text": [
      "1    53128\n",
      "0    46839\n",
      "3    22310\n",
      "2    12583\n",
      "Name: closed_bin, dtype: int64\n",
      "3    46839\n",
      "2    46839\n",
      "1    46839\n",
      "0    46839\n",
      "Name: closed_bin, dtype: int64\n"
     ]
    }
   ],
   "source": [
    "# Separate majority and minority classes\n",
    "train_bin0 = train[train.closed_bin==0]\n",
    "train_bin1 = train[train.closed_bin==1]\n",
    "train_bin2 = train[train.closed_bin==2]\n",
    "train_bin3 = train[train.closed_bin==3]\n",
    "\n",
    "# Upsample minority classes\n",
    "n_majority = len(train[train.closed_bin==0])\n",
    "train_bin1_upsampled = resample(train_bin1,\n",
    "                                  replace=True,          # sample with replacement\n",
    "                                  n_samples=n_majority,  # to match majority class\n",
    "                                  random_state=123)      # for reproducibility\n",
    "\n",
    "train_bin2_upsampled = resample(train_bin2, replace=True, n_samples=n_majority, random_state=123)\n",
    "train_bin3_upsampled = resample(train_bin3, replace=True, n_samples=n_majority, random_state=123)\n",
    "\n",
    "# Combine majority class with upsampled minority class\n",
    "train_upsampled = pd.concat([train_bin0, train_bin1_upsampled, train_bin2_upsampled, \n",
    "                                 train_bin3_upsampled])\n",
    "\n",
    "print(train.closed_bin.value_counts())\n",
    "print(train_upsampled.closed_bin.value_counts())"
   ]
  },
  {
   "cell_type": "markdown",
   "metadata": {},
   "source": [
    "### 3 - Regressors (linear regression and random forest regressor)\n",
    "This section will try models that directly predict how many days it will take to close a request (rather than what closure category a request falls into)"
   ]
  },
  {
   "cell_type": "markdown",
   "metadata": {},
   "source": [
    "#### *Create X and y datasets*"
   ]
  },
  {
   "cell_type": "code",
   "execution_count": 23,
   "metadata": {},
   "outputs": [],
   "source": [
    "X_train = train_upsampled.copy()\n",
    "\n",
    "# scale the predictor data\n",
    "rbscaler = RobustScaler()\n",
    "X_train[['household_income','pop_density','load_by_service','load_by_service_zip']] = \\\n",
    "rbscaler.fit_transform(X_train[['household_income','pop_density','load_by_service','load_by_service_zip']])\n",
    "\n",
    "X_train = X_train.drop(columns=['days_till_closed', 'closed_bin'], axis=1).values\n",
    "y_train = train_upsampled['days_till_closed'].values\n",
    "\n",
    "\n",
    "X_test = test.copy()\n",
    "X_test = X_test.drop(columns=['days_till_closed', 'closed_bin'], axis=1).values\n",
    "y_test = test['days_till_closed'].values"
   ]
  },
  {
   "cell_type": "markdown",
   "metadata": {},
   "source": [
    "#### *Linear regression*"
   ]
  },
  {
   "cell_type": "code",
   "execution_count": 29,
   "metadata": {},
   "outputs": [
    {
     "name": "stdout",
     "output_type": "stream",
     "text": [
      "Training set R^2: 0.41737998683779753\n",
      "Test set R^2: -4.356769003226514e+17\n"
     ]
    },
    {
     "data": {
      "image/png": "[encoded data removed]",
      "text/plain": [
       "<Figure size 432x288 with 1 Axes>"
      ]
     },
     "metadata": {},
     "output_type": "display_data"
    }
   ],
   "source": [
    "from sklearn.linear_model import LinearRegression\n",
    "lin_reg = LinearRegression()\n",
    "\n",
    "# Fit the regressor to the training data\n",
    "lin_reg.fit(X_train, y_train)\n",
    "\n",
    "print(\"Training set R^2:\", lin_reg.score(X_train, y_train))\n",
    "print(\"Test set R^2:\", lin_reg.score(X_test, y_test))\n",
    "\n",
    "# Predict on the test data: y_pred\n",
    "y_pred = lin_reg.predict(X_test)\n",
    "plt.scatter(y_test, y_pred)\n",
    "plt.xlabel('Actual time-to-close (days)')\n",
    "plt.ylabel('Predicted time-to-close (days)')\n",
    "plt.ylim([0, 10000])\n",
    "plt.title('Linear Regression model')\n",
    "plt.show()"
   ]
  },
  {
   "cell_type": "markdown",
   "metadata": {},
   "source": [
    "#### *Random Forest Regressor*"
   ]
  },
  {
   "cell_type": "code",
   "execution_count": 25,
   "metadata": {},
   "outputs": [
    {
     "name": "stdout",
     "output_type": "stream",
     "text": [
      "Training set R^2: 0.9710766388008418\n",
      "Test set R^2: -0.13992848389013424\n"
     ]
    },
    {
     "data": {
      "image/png": "[encoded data removed]",
      "text/plain": [
       "<Figure size 432x288 with 1 Axes>"
      ]
     },
     "metadata": {},
     "output_type": "display_data"
    }
   ],
   "source": [
    "rf_regr = RandomForestRegressor()\n",
    "\n",
    "# Fit the regressor to the training data\n",
    "rf_regr.fit(X_train, y_train)\n",
    "\n",
    "print(\"Training set R^2:\", rf_regr.score(X_train, y_train))\n",
    "print(\"Test set R^2:\", rf_regr.score(X_test, y_test))\n",
    "\n",
    "# Predict the labels of the test set: y_pred\n",
    "y_pred = rf_regr.predict(X_test)\n",
    "plt.scatter(y_test, y_pred)\n",
    "plt.xlabel('Actual time-to-close (days)')\n",
    "plt.ylabel('Predicted time-to-close (days)')\n",
    "plt.title('Random Forest Regressor model')\n",
    "plt.show()"
   ]
  },
  {
   "cell_type": "markdown",
   "metadata": {},
   "source": [
    "### 4 - Multilabel Classifiers"
   ]
  },
  {
   "cell_type": "markdown",
   "metadata": {},
   "source": [
    "#### *Create X and y datasets*"
   ]
  },
  {
   "cell_type": "code",
   "execution_count": 10,
   "metadata": {},
   "outputs": [],
   "source": [
    "X_train = train_upsampled.copy()\n",
    "X_train = X_train.drop(columns=['days_till_closed', 'closed_bin'], axis=1).values\n",
    "y_train = train_upsampled['closed_bin'].values\n",
    "\n",
    "X_test = test.copy()\n",
    "X_test = X_test.drop(columns=['days_till_closed', 'closed_bin'], axis=1).values\n",
    "y_test = test['closed_bin'].values"
   ]
  },
  {
   "cell_type": "markdown",
   "metadata": {},
   "source": [
    "#### *Logistic regression*"
   ]
  },
  {
   "cell_type": "code",
   "execution_count": 11,
   "metadata": {},
   "outputs": [
    {
     "name": "stdout",
     "output_type": "stream",
     "text": [
      "Logistic Regression\n",
      "\n",
      "Predicted Bin         0         1         2         3\n",
      "Actual Bin                                           \n",
      "0              0.239449  0.206941  0.058101  0.495508\n",
      "1              0.127059  0.245882  0.057881  0.569179\n",
      "2              0.126306  0.088900  0.106388  0.678407\n",
      "3              0.079648  0.011359  0.148884  0.760108\n",
      "Training set accuracy: 0.3339364632037405\n",
      "Test set accuracy: 0.31548506217605055\n",
      "Test set f1 score: 0.27914048710823564\n"
     ]
    }
   ],
   "source": [
    "from sklearn.linear_model import LogisticRegressionCV \n",
    "\n",
    "logr = LogisticRegressionCV(multi_class='multinomial')\n",
    "logr.fit(X_train, y_train)\n",
    "\n",
    "# Predicting the Test set results\n",
    "y_pred = logr.predict(X_test)\n",
    "\n",
    "# Making the Confusion Matrix\n",
    "print(\"Logistic Regression\\n\")\n",
    "print(pd.crosstab(y_test, y_pred, rownames=['Actual Bin'],\n",
    "                  colnames=['Predicted Bin'], normalize='index'))\n",
    "print(\"Training set accuracy:\", logr.score(X_train, y_train))\n",
    "print(\"Test set accuracy:\", logr.score(X_test, y_test))\n",
    "print('Test set f1 score:', f1_score(y_test, y_pred, average='macro'))"
   ]
  },
  {
   "cell_type": "markdown",
   "metadata": {},
   "source": [
    "#### *Random Forest Classifier*"
   ]
  },
  {
   "cell_type": "code",
   "execution_count": 12,
   "metadata": {},
   "outputs": [
    {
     "name": "stdout",
     "output_type": "stream",
     "text": [
      "Random Forest Classifier\n",
      "\n",
      "Predicted Bin         0         1         2         3\n",
      "Actual Bin                                           \n",
      "0              0.705099  0.178569  0.052155  0.064176\n",
      "1              0.282892  0.478851  0.115984  0.122273\n",
      "2              0.189944  0.278844  0.320136  0.211076\n",
      "3              0.153753  0.198648  0.136849  0.510751\n",
      "Training set accuracy: 0.9870727385298576\n",
      "Test set accuracy: 0.5474384356995083\n",
      "Test set f1 score: 0.49259859677591167\n"
     ]
    }
   ],
   "source": [
    "rf_clf = RandomForestClassifier()\n",
    "rf_clf.fit(X_train, y_train)\n",
    "\n",
    "# Predicting the Test set results\n",
    "y_pred = rf_clf.predict(X_test)\n",
    "\n",
    "# Making the Confusion Matrix\n",
    "print(\"Random Forest Classifier\\n\")\n",
    "print(pd.crosstab(y_test, y_pred, rownames=['Actual Bin'],\n",
    "                  colnames=['Predicted Bin'], normalize='index'))\n",
    "print(\"Training set accuracy:\", rf_clf.score(X_train, y_train))\n",
    "print(\"Test set accuracy:\", rf_clf.score(X_test, y_test))\n",
    "print('Test set f1 score:', f1_score(y_test, y_pred, average='macro'))"
   ]
  },
  {
   "cell_type": "markdown",
   "metadata": {},
   "source": [
    "#### *Naive Bayes*"
   ]
  },
  {
   "cell_type": "code",
   "execution_count": 13,
   "metadata": {},
   "outputs": [
    {
     "name": "stdout",
     "output_type": "stream",
     "text": [
      "Naive Bayes Classifier\n",
      "\n",
      "Predicted Bin         0         1         2         3\n",
      "Actual Bin                                           \n",
      "0              0.598850  0.163446  0.116590  0.121114\n",
      "1              0.251113  0.289682  0.258849  0.200356\n",
      "2              0.219820  0.100802  0.404421  0.274957\n",
      "3              0.159838  0.044219  0.252197  0.543746\n",
      "Training set accuracy: 0.45704434338905614\n",
      "Test set accuracy: 0.44840166396013614\n",
      "Test set f1 score: 0.4168474782498245\n"
     ]
    }
   ],
   "source": [
    "from sklearn.naive_bayes import BernoulliNB\n",
    "\n",
    "nb_bern = BernoulliNB()\n",
    "nb_bern.fit(X_train, y_train)\n",
    "\n",
    "# Predicting the Test set results\n",
    "y_pred = nb_bern.predict(X_test)\n",
    "\n",
    "# Making the Confusion Matrix\n",
    "print(\"Naive Bayes Classifier\\n\")\n",
    "print(pd.crosstab(y_test, y_pred, rownames=['Actual Bin'],\n",
    "                  colnames=['Predicted Bin'], normalize='index'))\n",
    "print(\"Training set accuracy:\", nb_bern.score(X_train, y_train))\n",
    "print(\"Test set accuracy:\", nb_bern.score(X_test, y_test))\n",
    "print('Test set f1 score:', f1_score(y_test, y_pred, average='macro'))"
   ]
  },
  {
   "cell_type": "markdown",
   "metadata": {},
   "source": [
    "#### *Gradient Boosted Tree*"
   ]
  },
  {
   "cell_type": "code",
   "execution_count": 14,
   "metadata": {},
   "outputs": [
    {
     "name": "stdout",
     "output_type": "stream",
     "text": [
      "Naive Bayes Classifier\n",
      "\n",
      "Predicted Bin         0         1         2         3\n",
      "Actual Bin                                           \n",
      "0              0.491631  0.210431  0.172106  0.125832\n",
      "1              0.079363  0.456756  0.293355  0.170525\n",
      "2              0.051737  0.174156  0.533884  0.240223\n",
      "3              0.031373  0.086951  0.322786  0.558891\n",
      "Training set accuracy: 0.5157614381178078\n",
      "Test set accuracy: 0.4926256312148244\n",
      "Test set f1 score: 0.4696668740819283\n"
     ]
    }
   ],
   "source": [
    "from sklearn.ensemble import GradientBoostingClassifier\n",
    "\n",
    "gboost = GradientBoostingClassifier()\n",
    "gboost.fit(X_train, y_train)\n",
    "\n",
    "# Predicting the Test set results\n",
    "y_pred = gboost.predict(X_test)\n",
    "\n",
    "# Making the Confusion Matrix\n",
    "print(\"Gradient Boost Classifier\\n\")\n",
    "print(pd.crosstab(y_test, y_pred, rownames=['Actual Bin'],\n",
    "                  colnames=['Predicted Bin'], normalize='index'))\n",
    "print(\"Training set accuracy:\", gboost.score(X_train, y_train))\n",
    "print(\"Test set accuracy:\", gboost.score(X_test, y_test))\n",
    "print('Test set f1 score:', f1_score(y_test, y_pred, average='macro'))"
   ]
  },
  {
   "cell_type": "markdown",
   "metadata": {},
   "source": [
    "#### *ADA-boosted tree*"
   ]
  },
  {
   "cell_type": "code",
   "execution_count": 15,
   "metadata": {},
   "outputs": [
    {
     "name": "stdout",
     "output_type": "stream",
     "text": [
      "Naive Bayes Classifier\n",
      "\n",
      "Predicted Bin         0         1         2         3\n",
      "Actual Bin                                           \n",
      "0              0.446326  0.222258  0.231629  0.099787\n",
      "1              0.060719  0.387578  0.379675  0.172028\n",
      "2              0.059752  0.139179  0.471217  0.329852\n",
      "3              0.039621  0.074239  0.311291  0.574848\n",
      "Training set accuracy: 0.46894148039027306\n",
      "Test set accuracy: 0.44626610014904455\n",
      "Test set f1 score: 0.4340749881919536\n"
     ]
    }
   ],
   "source": [
    "from sklearn.ensemble import AdaBoostClassifier\n",
    "\n",
    "adaboost = AdaBoostClassifier()\n",
    "adaboost.fit(X_train, y_train)\n",
    "\n",
    "# Predicting the Test set results\n",
    "y_pred = adaboost.predict(X_test)\n",
    "\n",
    "# Making the Confusion Matrix\n",
    "print(\"ADA Boost Classifier\\n\")\n",
    "print(pd.crosstab(y_test, y_pred, rownames=['Actual Bin'],\n",
    "                  colnames=['Predicted Bin'], normalize='index'))\n",
    "print(\"Training set accuracy:\", adaboost.score(X_train, y_train))\n",
    "print(\"Test set accuracy:\", adaboost.score(X_test, y_test))\n",
    "print('Test set f1 score:', f1_score(y_test, y_pred, average='macro'))"
   ]
  },
  {
   "cell_type": "code",
   "execution_count": null,
   "metadata": {},
   "outputs": [],
   "source": []
  }
 ],
 "metadata": {
  "kernelspec": {
   "display_name": "Python 3",
   "language": "python",
   "name": "python3"
  },
  "language_info": {
   "codemirror_mode": {
    "name": "ipython",
    "version": 3
   },
   "file_extension": ".py",
   "mimetype": "text/x-python",
   "name": "python",
   "nbconvert_exporter": "python",
   "pygments_lexer": "ipython3",
   "version": "3.6.8"
  }
 },
 "nbformat": 4,
 "nbformat_minor": 2
}
